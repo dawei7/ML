{
 "cells": [
  {
   "cell_type": "code",
   "execution_count": 1,
   "source": [
    "import numpy as np\r\n",
    "import pandas as pd"
   ],
   "outputs": [],
   "metadata": {}
  },
  {
   "cell_type": "markdown",
   "source": [
    "This is a template for your final project. "
   ],
   "metadata": {}
  },
  {
   "cell_type": "code",
   "execution_count": 2,
   "source": [
    "full_dataset = pd.read_csv('IMDb movies.csv')\r\n",
    "full_dataset.head(3)"
   ],
   "outputs": [
    {
     "output_type": "execute_result",
     "data": {
      "text/html": [
       "<div>\n",
       "<style scoped>\n",
       "    .dataframe tbody tr th:only-of-type {\n",
       "        vertical-align: middle;\n",
       "    }\n",
       "\n",
       "    .dataframe tbody tr th {\n",
       "        vertical-align: top;\n",
       "    }\n",
       "\n",
       "    .dataframe thead th {\n",
       "        text-align: right;\n",
       "    }\n",
       "</style>\n",
       "<table border=\"1\" class=\"dataframe\">\n",
       "  <thead>\n",
       "    <tr style=\"text-align: right;\">\n",
       "      <th></th>\n",
       "      <th>imdb_title_id</th>\n",
       "      <th>title</th>\n",
       "      <th>original_title</th>\n",
       "      <th>year</th>\n",
       "      <th>date_published</th>\n",
       "      <th>genre</th>\n",
       "      <th>duration</th>\n",
       "      <th>country</th>\n",
       "      <th>language</th>\n",
       "      <th>director</th>\n",
       "      <th>...</th>\n",
       "      <th>actors</th>\n",
       "      <th>description</th>\n",
       "      <th>avg_vote</th>\n",
       "      <th>votes</th>\n",
       "      <th>budget</th>\n",
       "      <th>usa_gross_income</th>\n",
       "      <th>worlwide_gross_income</th>\n",
       "      <th>metascore</th>\n",
       "      <th>reviews_from_users</th>\n",
       "      <th>reviews_from_critics</th>\n",
       "    </tr>\n",
       "  </thead>\n",
       "  <tbody>\n",
       "    <tr>\n",
       "      <th>0</th>\n",
       "      <td>tt0000574</td>\n",
       "      <td>The Story of the Kelly Gang</td>\n",
       "      <td>The Story of the Kelly Gang</td>\n",
       "      <td>1906</td>\n",
       "      <td>1906-12-26</td>\n",
       "      <td>Biography, Crime, Drama</td>\n",
       "      <td>70</td>\n",
       "      <td>Australia</td>\n",
       "      <td>NaN</td>\n",
       "      <td>Charles Tait</td>\n",
       "      <td>...</td>\n",
       "      <td>Elizabeth Tait, John Tait, Norman Campbell, Be...</td>\n",
       "      <td>True story of notorious Australian outlaw Ned ...</td>\n",
       "      <td>6.1</td>\n",
       "      <td>537</td>\n",
       "      <td>$ 2250</td>\n",
       "      <td>NaN</td>\n",
       "      <td>NaN</td>\n",
       "      <td>NaN</td>\n",
       "      <td>7.0</td>\n",
       "      <td>7.0</td>\n",
       "    </tr>\n",
       "    <tr>\n",
       "      <th>1</th>\n",
       "      <td>tt0001892</td>\n",
       "      <td>Den sorte drøm</td>\n",
       "      <td>Den sorte drøm</td>\n",
       "      <td>1911</td>\n",
       "      <td>1911-08-19</td>\n",
       "      <td>Drama</td>\n",
       "      <td>53</td>\n",
       "      <td>Germany, Denmark</td>\n",
       "      <td>NaN</td>\n",
       "      <td>Urban Gad</td>\n",
       "      <td>...</td>\n",
       "      <td>Asta Nielsen, Valdemar Psilander, Gunnar Helse...</td>\n",
       "      <td>Two men of high rank are both wooing the beaut...</td>\n",
       "      <td>5.9</td>\n",
       "      <td>171</td>\n",
       "      <td>NaN</td>\n",
       "      <td>NaN</td>\n",
       "      <td>NaN</td>\n",
       "      <td>NaN</td>\n",
       "      <td>4.0</td>\n",
       "      <td>2.0</td>\n",
       "    </tr>\n",
       "    <tr>\n",
       "      <th>2</th>\n",
       "      <td>tt0002101</td>\n",
       "      <td>Cleopatra</td>\n",
       "      <td>Cleopatra</td>\n",
       "      <td>1912</td>\n",
       "      <td>1912-11-13</td>\n",
       "      <td>Drama, History</td>\n",
       "      <td>100</td>\n",
       "      <td>USA</td>\n",
       "      <td>English</td>\n",
       "      <td>Charles L. Gaskill</td>\n",
       "      <td>...</td>\n",
       "      <td>Helen Gardner, Pearl Sindelar, Miss Fielding, ...</td>\n",
       "      <td>The fabled queen of Egypt's affair with Roman ...</td>\n",
       "      <td>5.2</td>\n",
       "      <td>420</td>\n",
       "      <td>$ 45000</td>\n",
       "      <td>NaN</td>\n",
       "      <td>NaN</td>\n",
       "      <td>NaN</td>\n",
       "      <td>24.0</td>\n",
       "      <td>3.0</td>\n",
       "    </tr>\n",
       "  </tbody>\n",
       "</table>\n",
       "<p>3 rows × 22 columns</p>\n",
       "</div>"
      ],
      "text/plain": [
       "  imdb_title_id                        title               original_title  \\\n",
       "0     tt0000574  The Story of the Kelly Gang  The Story of the Kelly Gang   \n",
       "1     tt0001892               Den sorte drøm               Den sorte drøm   \n",
       "2     tt0002101                    Cleopatra                    Cleopatra   \n",
       "\n",
       "   year date_published                    genre  duration           country  \\\n",
       "0  1906     1906-12-26  Biography, Crime, Drama        70         Australia   \n",
       "1  1911     1911-08-19                    Drama        53  Germany, Denmark   \n",
       "2  1912     1912-11-13           Drama, History       100               USA   \n",
       "\n",
       "  language            director  ...  \\\n",
       "0      NaN        Charles Tait  ...   \n",
       "1      NaN           Urban Gad  ...   \n",
       "2  English  Charles L. Gaskill  ...   \n",
       "\n",
       "                                              actors  \\\n",
       "0  Elizabeth Tait, John Tait, Norman Campbell, Be...   \n",
       "1  Asta Nielsen, Valdemar Psilander, Gunnar Helse...   \n",
       "2  Helen Gardner, Pearl Sindelar, Miss Fielding, ...   \n",
       "\n",
       "                                         description avg_vote votes   budget  \\\n",
       "0  True story of notorious Australian outlaw Ned ...      6.1   537   $ 2250   \n",
       "1  Two men of high rank are both wooing the beaut...      5.9   171      NaN   \n",
       "2  The fabled queen of Egypt's affair with Roman ...      5.2   420  $ 45000   \n",
       "\n",
       "   usa_gross_income worlwide_gross_income metascore reviews_from_users  \\\n",
       "0               NaN                   NaN       NaN                7.0   \n",
       "1               NaN                   NaN       NaN                4.0   \n",
       "2               NaN                   NaN       NaN               24.0   \n",
       "\n",
       "   reviews_from_critics  \n",
       "0                   7.0  \n",
       "1                   2.0  \n",
       "2                   3.0  \n",
       "\n",
       "[3 rows x 22 columns]"
      ]
     },
     "metadata": {},
     "execution_count": 2
    }
   ],
   "metadata": {}
  },
  {
   "cell_type": "markdown",
   "source": [
    "### Part 1.\n",
    "\n",
    "Task formalization and Evaluation criteria\n",
    "\n",
    "1.1 Select your target variable, explain your choice. Separate target variable from the feature matrix."
   ],
   "metadata": {}
  },
  {
   "cell_type": "markdown",
   "source": [
    "I select as target variable \"avg_votes\".\r\n",
    "See reasoning below."
   ],
   "metadata": {}
  },
  {
   "cell_type": "markdown",
   "source": [
    "#### What is success?\r\n",
    "Intuitively I would say, that ideally the target variable should be the worldwide_gross_income. The gross income can be classified equally as success.\r\n",
    "#### What are the problems with world_wide_gross_income?\r\n",
    "- The date range is too big, the currency valuation is very unstable and noisy through the whole period, so that worldwide_gross_income cannot be taken (Obvious)\r\n",
    "- There are too many missing values in worldwide_gross_income. (appr. 70%), so that alone this fact makes it not usable as a target variable (See cell below)\r\n",
    "\r\n",
    "We have to reject worldwide_gross_income as a good target measure."
   ],
   "metadata": {}
  },
  {
   "cell_type": "code",
   "execution_count": 3,
   "source": [
    "num_rows = full_dataset.shape[0]\r\n",
    "(full_dataset.isna().sum() / num_rows).plot(kind=\"bar\", title=\"Missing data (%)\", grid=True)"
   ],
   "outputs": [
    {
     "output_type": "execute_result",
     "data": {
      "text/plain": [
       "<AxesSubplot:title={'center':'Missing data (%)'}>"
      ]
     },
     "metadata": {},
     "execution_count": 3
    },
    {
     "output_type": "display_data",
     "data": {
      "image/png": "[encoded data removed]",
      "text/plain": [
       "<Figure size 432x288 with 1 Axes>"
      ]
     },
     "metadata": {
      "needs_background": "light"
     }
    }
   ],
   "metadata": {}
  },
  {
   "cell_type": "markdown",
   "source": [
    "### What alternative targets exist?\r\n",
    "- Number of Votes and Avg_votes seem to be another good quantitative measure of success. Number of votes represents the popularity of a movie (therefore many people vote), while Avg_votes repesents the quality of a movie. One would expect that this goes hand in hand and is strongly correlated.\r\n",
    "- Which one is better? By observing some samples of data, it seems that the early year movies generally don't have much votes. Moreover the movies of countries outside of USA & Europe seem to have generally fewer votes.\r\n",
    "- We see a correlation, but because of the mentioned reasons, the number of votes seems to be biased by year and country. If this biased would be removed an even stronger correlation could be expected.\r\n",
    "- \"avg_votes\" has a nice distribution, which approixmates a Gaussian normal distribution. This improves the quality of prediction.\r\n",
    "\r\n",
    "### Conclusion:\r\n",
    "I select as target variable \"avg_votes\"."
   ],
   "metadata": {}
  },
  {
   "cell_type": "code",
   "execution_count": 4,
   "source": [
    "pd.concat([full_dataset['avg_vote'], full_dataset['votes']], axis=1).plot.scatter(x='avg_vote', y='votes', title='avg_vote vs votes', grid=True)"
   ],
   "outputs": [
    {
     "output_type": "execute_result",
     "data": {
      "text/plain": [
       "<AxesSubplot:title={'center':'avg_vote vs votes'}, xlabel='avg_vote', ylabel='votes'>"
      ]
     },
     "metadata": {},
     "execution_count": 4
    },
    {
     "output_type": "display_data",
     "data": {
      "image/png": "[encoded data removed]",
      "text/plain": [
       "<Figure size 432x288 with 1 Axes>"
      ]
     },
     "metadata": {
      "needs_background": "light"
     }
    }
   ],
   "metadata": {}
  },
  {
   "cell_type": "code",
   "execution_count": 5,
   "source": [
    "partial_dataset = pd.concat([full_dataset['avg_vote'], full_dataset['votes'],full_dataset['year'],full_dataset['country']], axis=1)\r\n",
    "\r\n",
    "partial_dataset[(partial_dataset['avg_vote']>8)&(partial_dataset['votes']<200000)]"
   ],
   "outputs": [
    {
     "output_type": "execute_result",
     "data": {
      "text/html": [
       "<div>\n",
       "<style scoped>\n",
       "    .dataframe tbody tr th:only-of-type {\n",
       "        vertical-align: middle;\n",
       "    }\n",
       "\n",
       "    .dataframe tbody tr th {\n",
       "        vertical-align: top;\n",
       "    }\n",
       "\n",
       "    .dataframe thead th {\n",
       "        text-align: right;\n",
       "    }\n",
       "</style>\n",
       "<table border=\"1\" class=\"dataframe\">\n",
       "  <thead>\n",
       "    <tr style=\"text-align: right;\">\n",
       "      <th></th>\n",
       "      <th>avg_vote</th>\n",
       "      <th>votes</th>\n",
       "      <th>year</th>\n",
       "      <th>country</th>\n",
       "    </tr>\n",
       "  </thead>\n",
       "  <tbody>\n",
       "    <tr>\n",
       "      <th>155</th>\n",
       "      <td>8.1</td>\n",
       "      <td>51644</td>\n",
       "      <td>1920</td>\n",
       "      <td>Germany</td>\n",
       "    </tr>\n",
       "    <tr>\n",
       "      <th>238</th>\n",
       "      <td>8.3</td>\n",
       "      <td>101619</td>\n",
       "      <td>1921</td>\n",
       "      <td>USA</td>\n",
       "    </tr>\n",
       "    <tr>\n",
       "      <th>239</th>\n",
       "      <td>8.1</td>\n",
       "      <td>9322</td>\n",
       "      <td>1921</td>\n",
       "      <td>Sweden</td>\n",
       "    </tr>\n",
       "    <tr>\n",
       "      <th>320</th>\n",
       "      <td>8.1</td>\n",
       "      <td>16798</td>\n",
       "      <td>1923</td>\n",
       "      <td>USA</td>\n",
       "    </tr>\n",
       "    <tr>\n",
       "      <th>357</th>\n",
       "      <td>8.1</td>\n",
       "      <td>11361</td>\n",
       "      <td>1924</td>\n",
       "      <td>Germany</td>\n",
       "    </tr>\n",
       "    <tr>\n",
       "      <th>...</th>\n",
       "      <td>...</td>\n",
       "      <td>...</td>\n",
       "      <td>...</td>\n",
       "      <td>...</td>\n",
       "    </tr>\n",
       "    <tr>\n",
       "      <th>59934</th>\n",
       "      <td>8.4</td>\n",
       "      <td>1206</td>\n",
       "      <td>2010</td>\n",
       "      <td>USA</td>\n",
       "    </tr>\n",
       "    <tr>\n",
       "      <th>60017</th>\n",
       "      <td>8.1</td>\n",
       "      <td>53242</td>\n",
       "      <td>2012</td>\n",
       "      <td>India</td>\n",
       "    </tr>\n",
       "    <tr>\n",
       "      <th>60031</th>\n",
       "      <td>8.1</td>\n",
       "      <td>3712</td>\n",
       "      <td>2011</td>\n",
       "      <td>India</td>\n",
       "    </tr>\n",
       "    <tr>\n",
       "      <th>60081</th>\n",
       "      <td>8.2</td>\n",
       "      <td>3815</td>\n",
       "      <td>2011</td>\n",
       "      <td>Egypt</td>\n",
       "    </tr>\n",
       "    <tr>\n",
       "      <th>60134</th>\n",
       "      <td>8.2</td>\n",
       "      <td>1600</td>\n",
       "      <td>2011</td>\n",
       "      <td>India</td>\n",
       "    </tr>\n",
       "  </tbody>\n",
       "</table>\n",
       "<p>704 rows × 4 columns</p>\n",
       "</div>"
      ],
      "text/plain": [
       "       avg_vote   votes  year  country\n",
       "155         8.1   51644  1920  Germany\n",
       "238         8.3  101619  1921      USA\n",
       "239         8.1    9322  1921   Sweden\n",
       "320         8.1   16798  1923      USA\n",
       "357         8.1   11361  1924  Germany\n",
       "...         ...     ...   ...      ...\n",
       "59934       8.4    1206  2010      USA\n",
       "60017       8.1   53242  2012    India\n",
       "60031       8.1    3712  2011    India\n",
       "60081       8.2    3815  2011    Egypt\n",
       "60134       8.2    1600  2011    India\n",
       "\n",
       "[704 rows x 4 columns]"
      ]
     },
     "metadata": {},
     "execution_count": 5
    }
   ],
   "metadata": {}
  },
  {
   "cell_type": "code",
   "execution_count": 6,
   "source": [
    "full_dataset['avg_vote'].plot.hist(bins=30, grid=True, title=\"avg_vote\")"
   ],
   "outputs": [
    {
     "output_type": "execute_result",
     "data": {
      "text/plain": [
       "<AxesSubplot:title={'center':'avg_vote'}, ylabel='Frequency'>"
      ]
     },
     "metadata": {},
     "execution_count": 6
    },
    {
     "output_type": "display_data",
     "data": {
      "image/png": "[encoded data removed]",
      "text/plain": [
       "<Figure size 432x288 with 1 Axes>"
      ]
     },
     "metadata": {
      "needs_background": "light"
     }
    }
   ],
   "metadata": {}
  },
  {
   "cell_type": "code",
   "execution_count": 7,
   "source": [
    "# Seperating target variable from the feature matrix.\r\n",
    "full_dataset.rename({'avg_vote': 'target'}, axis=1)\r\n"
   ],
   "outputs": [
    {
     "output_type": "execute_result",
     "data": {
      "text/html": [
       "<div>\n",
       "<style scoped>\n",
       "    .dataframe tbody tr th:only-of-type {\n",
       "        vertical-align: middle;\n",
       "    }\n",
       "\n",
       "    .dataframe tbody tr th {\n",
       "        vertical-align: top;\n",
       "    }\n",
       "\n",
       "    .dataframe thead th {\n",
       "        text-align: right;\n",
       "    }\n",
       "</style>\n",
       "<table border=\"1\" class=\"dataframe\">\n",
       "  <thead>\n",
       "    <tr style=\"text-align: right;\">\n",
       "      <th></th>\n",
       "      <th>imdb_title_id</th>\n",
       "      <th>title</th>\n",
       "      <th>original_title</th>\n",
       "      <th>year</th>\n",
       "      <th>date_published</th>\n",
       "      <th>genre</th>\n",
       "      <th>duration</th>\n",
       "      <th>country</th>\n",
       "      <th>language</th>\n",
       "      <th>director</th>\n",
       "      <th>...</th>\n",
       "      <th>actors</th>\n",
       "      <th>description</th>\n",
       "      <th>target</th>\n",
       "      <th>votes</th>\n",
       "      <th>budget</th>\n",
       "      <th>usa_gross_income</th>\n",
       "      <th>worlwide_gross_income</th>\n",
       "      <th>metascore</th>\n",
       "      <th>reviews_from_users</th>\n",
       "      <th>reviews_from_critics</th>\n",
       "    </tr>\n",
       "  </thead>\n",
       "  <tbody>\n",
       "    <tr>\n",
       "      <th>0</th>\n",
       "      <td>tt0000574</td>\n",
       "      <td>The Story of the Kelly Gang</td>\n",
       "      <td>The Story of the Kelly Gang</td>\n",
       "      <td>1906</td>\n",
       "      <td>1906-12-26</td>\n",
       "      <td>Biography, Crime, Drama</td>\n",
       "      <td>70</td>\n",
       "      <td>Australia</td>\n",
       "      <td>NaN</td>\n",
       "      <td>Charles Tait</td>\n",
       "      <td>...</td>\n",
       "      <td>Elizabeth Tait, John Tait, Norman Campbell, Be...</td>\n",
       "      <td>True story of notorious Australian outlaw Ned ...</td>\n",
       "      <td>6.1</td>\n",
       "      <td>537</td>\n",
       "      <td>$ 2250</td>\n",
       "      <td>NaN</td>\n",
       "      <td>NaN</td>\n",
       "      <td>NaN</td>\n",
       "      <td>7.0</td>\n",
       "      <td>7.0</td>\n",
       "    </tr>\n",
       "    <tr>\n",
       "      <th>1</th>\n",
       "      <td>tt0001892</td>\n",
       "      <td>Den sorte drøm</td>\n",
       "      <td>Den sorte drøm</td>\n",
       "      <td>1911</td>\n",
       "      <td>1911-08-19</td>\n",
       "      <td>Drama</td>\n",
       "      <td>53</td>\n",
       "      <td>Germany, Denmark</td>\n",
       "      <td>NaN</td>\n",
       "      <td>Urban Gad</td>\n",
       "      <td>...</td>\n",
       "      <td>Asta Nielsen, Valdemar Psilander, Gunnar Helse...</td>\n",
       "      <td>Two men of high rank are both wooing the beaut...</td>\n",
       "      <td>5.9</td>\n",
       "      <td>171</td>\n",
       "      <td>NaN</td>\n",
       "      <td>NaN</td>\n",
       "      <td>NaN</td>\n",
       "      <td>NaN</td>\n",
       "      <td>4.0</td>\n",
       "      <td>2.0</td>\n",
       "    </tr>\n",
       "    <tr>\n",
       "      <th>2</th>\n",
       "      <td>tt0002101</td>\n",
       "      <td>Cleopatra</td>\n",
       "      <td>Cleopatra</td>\n",
       "      <td>1912</td>\n",
       "      <td>1912-11-13</td>\n",
       "      <td>Drama, History</td>\n",
       "      <td>100</td>\n",
       "      <td>USA</td>\n",
       "      <td>English</td>\n",
       "      <td>Charles L. Gaskill</td>\n",
       "      <td>...</td>\n",
       "      <td>Helen Gardner, Pearl Sindelar, Miss Fielding, ...</td>\n",
       "      <td>The fabled queen of Egypt's affair with Roman ...</td>\n",
       "      <td>5.2</td>\n",
       "      <td>420</td>\n",
       "      <td>$ 45000</td>\n",
       "      <td>NaN</td>\n",
       "      <td>NaN</td>\n",
       "      <td>NaN</td>\n",
       "      <td>24.0</td>\n",
       "      <td>3.0</td>\n",
       "    </tr>\n",
       "    <tr>\n",
       "      <th>3</th>\n",
       "      <td>tt0002130</td>\n",
       "      <td>L'Inferno</td>\n",
       "      <td>L'Inferno</td>\n",
       "      <td>1911</td>\n",
       "      <td>1911-03-06</td>\n",
       "      <td>Adventure, Drama, Fantasy</td>\n",
       "      <td>68</td>\n",
       "      <td>Italy</td>\n",
       "      <td>Italian</td>\n",
       "      <td>Francesco Bertolini, Adolfo Padovan</td>\n",
       "      <td>...</td>\n",
       "      <td>Salvatore Papa, Arturo Pirovano, Giuseppe de L...</td>\n",
       "      <td>Loosely adapted from Dante's Divine Comedy and...</td>\n",
       "      <td>7.0</td>\n",
       "      <td>2019</td>\n",
       "      <td>NaN</td>\n",
       "      <td>NaN</td>\n",
       "      <td>NaN</td>\n",
       "      <td>NaN</td>\n",
       "      <td>28.0</td>\n",
       "      <td>14.0</td>\n",
       "    </tr>\n",
       "    <tr>\n",
       "      <th>4</th>\n",
       "      <td>tt0002199</td>\n",
       "      <td>From the Manger to the Cross; or, Jesus of Naz...</td>\n",
       "      <td>From the Manger to the Cross; or, Jesus of Naz...</td>\n",
       "      <td>1912</td>\n",
       "      <td>1913</td>\n",
       "      <td>Biography, Drama</td>\n",
       "      <td>60</td>\n",
       "      <td>USA</td>\n",
       "      <td>English</td>\n",
       "      <td>Sidney Olcott</td>\n",
       "      <td>...</td>\n",
       "      <td>R. Henderson Bland, Percy Dyer, Gene Gauntier,...</td>\n",
       "      <td>An account of the life of Jesus Christ, based ...</td>\n",
       "      <td>5.7</td>\n",
       "      <td>438</td>\n",
       "      <td>NaN</td>\n",
       "      <td>NaN</td>\n",
       "      <td>NaN</td>\n",
       "      <td>NaN</td>\n",
       "      <td>12.0</td>\n",
       "      <td>5.0</td>\n",
       "    </tr>\n",
       "    <tr>\n",
       "      <th>...</th>\n",
       "      <td>...</td>\n",
       "      <td>...</td>\n",
       "      <td>...</td>\n",
       "      <td>...</td>\n",
       "      <td>...</td>\n",
       "      <td>...</td>\n",
       "      <td>...</td>\n",
       "      <td>...</td>\n",
       "      <td>...</td>\n",
       "      <td>...</td>\n",
       "      <td>...</td>\n",
       "      <td>...</td>\n",
       "      <td>...</td>\n",
       "      <td>...</td>\n",
       "      <td>...</td>\n",
       "      <td>...</td>\n",
       "      <td>...</td>\n",
       "      <td>...</td>\n",
       "      <td>...</td>\n",
       "      <td>...</td>\n",
       "      <td>...</td>\n",
       "    </tr>\n",
       "    <tr>\n",
       "      <th>60193</th>\n",
       "      <td>tt1836907</td>\n",
       "      <td>Sài Gòn Yo!</td>\n",
       "      <td>Sài Gòn Yo!</td>\n",
       "      <td>2011</td>\n",
       "      <td>2011-04-22</td>\n",
       "      <td>Drama</td>\n",
       "      <td>106</td>\n",
       "      <td>Vietnam</td>\n",
       "      <td>Vietnamese</td>\n",
       "      <td>Stephane Gauger</td>\n",
       "      <td>...</td>\n",
       "      <td>Quynh Hoa, Khuong Ngoc, Elly Nguyen, Phan Tan ...</td>\n",
       "      <td>Mai, a ribbon dancer from the countryside arri...</td>\n",
       "      <td>6.8</td>\n",
       "      <td>106</td>\n",
       "      <td>$ 500000</td>\n",
       "      <td>NaN</td>\n",
       "      <td>NaN</td>\n",
       "      <td>NaN</td>\n",
       "      <td>3.0</td>\n",
       "      <td>4.0</td>\n",
       "    </tr>\n",
       "    <tr>\n",
       "      <th>60194</th>\n",
       "      <td>tt1836912</td>\n",
       "      <td>Shaitan</td>\n",
       "      <td>Shaitan</td>\n",
       "      <td>2011</td>\n",
       "      <td>2011-06-10</td>\n",
       "      <td>Action, Crime, Drama</td>\n",
       "      <td>121</td>\n",
       "      <td>India</td>\n",
       "      <td>Hindi, English</td>\n",
       "      <td>Bejoy Nambiar</td>\n",
       "      <td>...</td>\n",
       "      <td>Kalki Koechlin, Shiv Panditt, Gulshan Devaiah,...</td>\n",
       "      <td>Five substance-abusing friends decide to fake ...</td>\n",
       "      <td>7.2</td>\n",
       "      <td>7615</td>\n",
       "      <td>NaN</td>\n",
       "      <td>NaN</td>\n",
       "      <td>NaN</td>\n",
       "      <td>NaN</td>\n",
       "      <td>42.0</td>\n",
       "      <td>15.0</td>\n",
       "    </tr>\n",
       "    <tr>\n",
       "      <th>60195</th>\n",
       "      <td>tt1836918</td>\n",
       "      <td>Slow Action</td>\n",
       "      <td>Slow Action</td>\n",
       "      <td>2011</td>\n",
       "      <td>2011-01-28</td>\n",
       "      <td>Sci-Fi</td>\n",
       "      <td>45</td>\n",
       "      <td>UK</td>\n",
       "      <td>English</td>\n",
       "      <td>Ben Rivers</td>\n",
       "      <td>...</td>\n",
       "      <td>NaN</td>\n",
       "      <td>NaN</td>\n",
       "      <td>6.8</td>\n",
       "      <td>107</td>\n",
       "      <td>GBP 30000</td>\n",
       "      <td>NaN</td>\n",
       "      <td>NaN</td>\n",
       "      <td>NaN</td>\n",
       "      <td>4.0</td>\n",
       "      <td>6.0</td>\n",
       "    </tr>\n",
       "    <tr>\n",
       "      <th>60196</th>\n",
       "      <td>tt1836926</td>\n",
       "      <td>Stealing Las Vegas</td>\n",
       "      <td>Stealing Las Vegas</td>\n",
       "      <td>2012</td>\n",
       "      <td>2012-09-11</td>\n",
       "      <td>Crime, Thriller</td>\n",
       "      <td>87</td>\n",
       "      <td>USA</td>\n",
       "      <td>English</td>\n",
       "      <td>Francisco Menéndez</td>\n",
       "      <td>...</td>\n",
       "      <td>Eric Roberts, Antonio Fargas, Ethan Landry, An...</td>\n",
       "      <td>When a greedy Las Vegas casino owner threatens...</td>\n",
       "      <td>3.9</td>\n",
       "      <td>354</td>\n",
       "      <td>NaN</td>\n",
       "      <td>NaN</td>\n",
       "      <td>NaN</td>\n",
       "      <td>NaN</td>\n",
       "      <td>10.0</td>\n",
       "      <td>4.0</td>\n",
       "    </tr>\n",
       "    <tr>\n",
       "      <th>60197</th>\n",
       "      <td>tt1836944</td>\n",
       "      <td>The Baytown Outlaws</td>\n",
       "      <td>The Baytown Outlaws</td>\n",
       "      <td>2012</td>\n",
       "      <td>2013-06-15</td>\n",
       "      <td>Action, Comedy, Crime</td>\n",
       "      <td>98</td>\n",
       "      <td>USA</td>\n",
       "      <td>English</td>\n",
       "      <td>Barry Battles</td>\n",
       "      <td>...</td>\n",
       "      <td>Clayne Crawford, Travis Fimmel, Daniel Cudmore...</td>\n",
       "      <td>When three redneck brothers agree to help a wo...</td>\n",
       "      <td>6.4</td>\n",
       "      <td>13182</td>\n",
       "      <td>$ 4000000</td>\n",
       "      <td>NaN</td>\n",
       "      <td>$ 37470</td>\n",
       "      <td>33.0</td>\n",
       "      <td>64.0</td>\n",
       "      <td>6.0</td>\n",
       "    </tr>\n",
       "  </tbody>\n",
       "</table>\n",
       "<p>60198 rows × 22 columns</p>\n",
       "</div>"
      ],
      "text/plain": [
       "      imdb_title_id                                              title  \\\n",
       "0         tt0000574                        The Story of the Kelly Gang   \n",
       "1         tt0001892                                     Den sorte drøm   \n",
       "2         tt0002101                                          Cleopatra   \n",
       "3         tt0002130                                          L'Inferno   \n",
       "4         tt0002199  From the Manger to the Cross; or, Jesus of Naz...   \n",
       "...             ...                                                ...   \n",
       "60193     tt1836907                                        Sài Gòn Yo!   \n",
       "60194     tt1836912                                            Shaitan   \n",
       "60195     tt1836918                                        Slow Action   \n",
       "60196     tt1836926                                 Stealing Las Vegas   \n",
       "60197     tt1836944                                The Baytown Outlaws   \n",
       "\n",
       "                                          original_title  year date_published  \\\n",
       "0                            The Story of the Kelly Gang  1906     1906-12-26   \n",
       "1                                         Den sorte drøm  1911     1911-08-19   \n",
       "2                                              Cleopatra  1912     1912-11-13   \n",
       "3                                              L'Inferno  1911     1911-03-06   \n",
       "4      From the Manger to the Cross; or, Jesus of Naz...  1912           1913   \n",
       "...                                                  ...   ...            ...   \n",
       "60193                                        Sài Gòn Yo!  2011     2011-04-22   \n",
       "60194                                            Shaitan  2011     2011-06-10   \n",
       "60195                                        Slow Action  2011     2011-01-28   \n",
       "60196                                 Stealing Las Vegas  2012     2012-09-11   \n",
       "60197                                The Baytown Outlaws  2012     2013-06-15   \n",
       "\n",
       "                           genre  duration           country        language  \\\n",
       "0        Biography, Crime, Drama        70         Australia             NaN   \n",
       "1                          Drama        53  Germany, Denmark             NaN   \n",
       "2                 Drama, History       100               USA         English   \n",
       "3      Adventure, Drama, Fantasy        68             Italy         Italian   \n",
       "4               Biography, Drama        60               USA         English   \n",
       "...                          ...       ...               ...             ...   \n",
       "60193                      Drama       106           Vietnam      Vietnamese   \n",
       "60194       Action, Crime, Drama       121             India  Hindi, English   \n",
       "60195                     Sci-Fi        45                UK         English   \n",
       "60196            Crime, Thriller        87               USA         English   \n",
       "60197      Action, Comedy, Crime        98               USA         English   \n",
       "\n",
       "                                  director  ...  \\\n",
       "0                             Charles Tait  ...   \n",
       "1                                Urban Gad  ...   \n",
       "2                       Charles L. Gaskill  ...   \n",
       "3      Francesco Bertolini, Adolfo Padovan  ...   \n",
       "4                            Sidney Olcott  ...   \n",
       "...                                    ...  ...   \n",
       "60193                      Stephane Gauger  ...   \n",
       "60194                        Bejoy Nambiar  ...   \n",
       "60195                           Ben Rivers  ...   \n",
       "60196                   Francisco Menéndez  ...   \n",
       "60197                        Barry Battles  ...   \n",
       "\n",
       "                                                  actors  \\\n",
       "0      Elizabeth Tait, John Tait, Norman Campbell, Be...   \n",
       "1      Asta Nielsen, Valdemar Psilander, Gunnar Helse...   \n",
       "2      Helen Gardner, Pearl Sindelar, Miss Fielding, ...   \n",
       "3      Salvatore Papa, Arturo Pirovano, Giuseppe de L...   \n",
       "4      R. Henderson Bland, Percy Dyer, Gene Gauntier,...   \n",
       "...                                                  ...   \n",
       "60193  Quynh Hoa, Khuong Ngoc, Elly Nguyen, Phan Tan ...   \n",
       "60194  Kalki Koechlin, Shiv Panditt, Gulshan Devaiah,...   \n",
       "60195                                                NaN   \n",
       "60196  Eric Roberts, Antonio Fargas, Ethan Landry, An...   \n",
       "60197  Clayne Crawford, Travis Fimmel, Daniel Cudmore...   \n",
       "\n",
       "                                             description target  votes  \\\n",
       "0      True story of notorious Australian outlaw Ned ...    6.1    537   \n",
       "1      Two men of high rank are both wooing the beaut...    5.9    171   \n",
       "2      The fabled queen of Egypt's affair with Roman ...    5.2    420   \n",
       "3      Loosely adapted from Dante's Divine Comedy and...    7.0   2019   \n",
       "4      An account of the life of Jesus Christ, based ...    5.7    438   \n",
       "...                                                  ...    ...    ...   \n",
       "60193  Mai, a ribbon dancer from the countryside arri...    6.8    106   \n",
       "60194  Five substance-abusing friends decide to fake ...    7.2   7615   \n",
       "60195                                                NaN    6.8    107   \n",
       "60196  When a greedy Las Vegas casino owner threatens...    3.9    354   \n",
       "60197  When three redneck brothers agree to help a wo...    6.4  13182   \n",
       "\n",
       "          budget  usa_gross_income worlwide_gross_income metascore  \\\n",
       "0         $ 2250               NaN                   NaN       NaN   \n",
       "1            NaN               NaN                   NaN       NaN   \n",
       "2        $ 45000               NaN                   NaN       NaN   \n",
       "3            NaN               NaN                   NaN       NaN   \n",
       "4            NaN               NaN                   NaN       NaN   \n",
       "...          ...               ...                   ...       ...   \n",
       "60193   $ 500000               NaN                   NaN       NaN   \n",
       "60194        NaN               NaN                   NaN       NaN   \n",
       "60195  GBP 30000               NaN                   NaN       NaN   \n",
       "60196        NaN               NaN                   NaN       NaN   \n",
       "60197  $ 4000000               NaN               $ 37470      33.0   \n",
       "\n",
       "      reviews_from_users  reviews_from_critics  \n",
       "0                    7.0                   7.0  \n",
       "1                    4.0                   2.0  \n",
       "2                   24.0                   3.0  \n",
       "3                   28.0                  14.0  \n",
       "4                   12.0                   5.0  \n",
       "...                  ...                   ...  \n",
       "60193                3.0                   4.0  \n",
       "60194               42.0                  15.0  \n",
       "60195                4.0                   6.0  \n",
       "60196               10.0                   4.0  \n",
       "60197               64.0                   6.0  \n",
       "\n",
       "[60198 rows x 22 columns]"
      ]
     },
     "metadata": {},
     "execution_count": 7
    }
   ],
   "metadata": {}
  },
  {
   "cell_type": "markdown",
   "source": [
    "1.2 Explain which task are you going to solve (is it a regression, classification or something else)? "
   ],
   "metadata": {}
  },
  {
   "cell_type": "markdown",
   "source": [
    "- I think the nature of the question is \"binary\", either True or False. Therefore it is a classification task.\r\n",
    "- Moreover, we have a target variable avg_vote, therefore it is supervised.\r\n",
    "\r\n",
    "See below the preparation of the target variable to be either 1 = successful or 0 = not successful. The question is; what is the best threshold of either 0 and 1."
   ],
   "metadata": {}
  },
  {
   "cell_type": "code",
   "execution_count": 8,
   "source": [
    "# Defining success threshold\r\n",
    "# When observing the target dsitribution, a quantile of 0.75 makes absolutely sense,\r\n",
    "# it is where, the marjority of movies are rated, but cuts off the lower and longer end of \"unsuccessful movies\".\r\n",
    "success_threshold = full_dataset['avg_vote'].quantile(0.75)\r\n",
    "print(f\"Success Threshhold : {success_threshold}\")\r\n",
    "full_dataset['avg_vote'].plot.hist(bins=30, grid=True, title=\"avg_vote\")\r\n"
   ],
   "outputs": [
    {
     "output_type": "stream",
     "name": "stdout",
     "text": [
      "Success Threshhold : 6.8\n"
     ]
    },
    {
     "output_type": "execute_result",
     "data": {
      "text/plain": [
       "<AxesSubplot:title={'center':'avg_vote'}, ylabel='Frequency'>"
      ]
     },
     "metadata": {},
     "execution_count": 8
    },
    {
     "output_type": "display_data",
     "data": {
      "image/png": "[encoded data removed]",
      "text/plain": [
       "<Figure size 432x288 with 1 Axes>"
      ]
     },
     "metadata": {
      "needs_background": "light"
     }
    }
   ],
   "metadata": {}
  },
  {
   "cell_type": "code",
   "execution_count": 9,
   "source": [
    "#Formatting the target variable\r\n",
    "full_dataset['target'] = full_dataset['avg_vote'].apply(lambda x: 1 if x >= success_threshold else 0)\r\n",
    "\r\n",
    "#Target distribution (absolute)\r\n",
    "print(f\"Target distribution (absolute):\\n{full_dataset['target'].value_counts()}\")\r\n",
    "\r\n",
    "#Target distribution (relative)\r\n",
    "print(f\"Target distribution (relative):\\n{full_dataset['target'].value_counts()/full_dataset['target'].shape[0]}\")\r\n",
    "\r\n",
    "# One would expect that 0.75 Quantile is exactly explit 75% - 25%. However, there is a deviation by the low granularity of ratings,\r\n",
    "# which only measure avg_votes rounded to 1 decimal position.\r\n"
   ],
   "outputs": [
    {
     "output_type": "stream",
     "name": "stdout",
     "text": [
      "Target distribution (absolute):\n",
      "0    43013\n",
      "1    17185\n",
      "Name: target, dtype: int64\n",
      "Target distribution (relative):\n",
      "0    0.714525\n",
      "1    0.285475\n",
      "Name: target, dtype: float64\n"
     ]
    }
   ],
   "metadata": {}
  },
  {
   "cell_type": "markdown",
   "source": [
    "1.3 Select a metric. Is it already implemented in sklearn? If yes, import it. If not, it is time to write a function which will calculate it. "
   ],
   "metadata": {}
  },
  {
   "cell_type": "markdown",
   "source": [
    "- The F1 score is the harmonic mean of the precision and recall\r\n",
    "- It is a measure of accuracy; exactly what we want.\r\n",
    "- The greater the F1-Score, the better is the performance of our model\r\n",
    "- Best value at 1 and worst score at 0\r\n",
    "- Formula F1-Score -> F1 = 2 * (precision * recall) / (precision + recall)\r\n",
    "- In sklearn.metrics f1_score is already in-built"
   ],
   "metadata": {}
  },
  {
   "cell_type": "code",
   "execution_count": 10,
   "source": [
    "from sklearn.metrics import f1_score"
   ],
   "outputs": [],
   "metadata": {}
  },
  {
   "cell_type": "markdown",
   "source": [
    "### Part 2.\n",
    "\n",
    "Explore and preprocess the data\n",
    "\n",
    "2.1 Split data into train and test"
   ],
   "metadata": {}
  },
  {
   "cell_type": "code",
   "execution_count": 11,
   "source": [
    "from sklearn.model_selection import train_test_split\r\n",
    "\r\n",
    "# Splitting between 0.4-0.2 in test seems approriate. I chose the lower bound of test sets\r\n",
    "train, test = train_test_split(full_dataset, test_size=0.2, random_state=42) #Choosing a random state, that test results can be compared & reproduced\r\n",
    "X_train, y_train, X_test, y_test = train.drop(['target'], axis=1), train.target, test.drop(['target'], axis=1), test.target # Splitting\r\n"
   ],
   "outputs": [],
   "metadata": {}
  },
  {
   "cell_type": "markdown",
   "source": [
    "2.2 Explore you data: make plots, print tables. Make sure to write your observations.  Do not forget to fill-in missing values, define relevant columns transformatios. \n"
   ],
   "metadata": {}
  },
  {
   "cell_type": "code",
   "execution_count": 12,
   "source": [
    "full_dataset.dtypes #Datset Types Overview, what is numeric, what is a String"
   ],
   "outputs": [
    {
     "output_type": "execute_result",
     "data": {
      "text/plain": [
       "imdb_title_id             object\n",
       "title                     object\n",
       "original_title            object\n",
       "year                       int64\n",
       "date_published            object\n",
       "genre                     object\n",
       "duration                   int64\n",
       "country                   object\n",
       "language                  object\n",
       "director                  object\n",
       "writer                    object\n",
       "production_company        object\n",
       "actors                    object\n",
       "description               object\n",
       "avg_vote                 float64\n",
       "votes                      int64\n",
       "budget                    object\n",
       "usa_gross_income          object\n",
       "worlwide_gross_income     object\n",
       "metascore                float64\n",
       "reviews_from_users       float64\n",
       "reviews_from_critics     float64\n",
       "target                     int64\n",
       "dtype: object"
      ]
     },
     "metadata": {},
     "execution_count": 12
    }
   ],
   "metadata": {}
  },
  {
   "cell_type": "code",
   "execution_count": 13,
   "source": [
    "full_dataset.isna().sum() # How many missing values?"
   ],
   "outputs": [
    {
     "output_type": "execute_result",
     "data": {
      "text/plain": [
       "imdb_title_id                0\n",
       "title                        0\n",
       "original_title               0\n",
       "year                         0\n",
       "date_published               0\n",
       "genre                        0\n",
       "duration                     0\n",
       "country                      5\n",
       "language                   439\n",
       "director                    24\n",
       "writer                     808\n",
       "production_company        2744\n",
       "actors                      30\n",
       "description               1993\n",
       "avg_vote                     0\n",
       "votes                        0\n",
       "budget                   43379\n",
       "usa_gross_income         48306\n",
       "worlwide_gross_income    41062\n",
       "metascore                51386\n",
       "reviews_from_users        4069\n",
       "reviews_from_critics      8229\n",
       "target                       0\n",
       "dtype: int64"
      ]
     },
     "metadata": {},
     "execution_count": 13
    }
   ],
   "metadata": {}
  },
  {
   "cell_type": "markdown",
   "source": [
    "#### imdb_title_id\r\n",
    "imdb_title_id is simply a sequential id, every id is unique.\r\n",
    "It has to be dropped."
   ],
   "metadata": {}
  },
  {
   "cell_type": "code",
   "execution_count": 14,
   "source": [
    "# imdb_title_id\r\n",
    "print(full_dataset.imdb_title_id.describe())\r\n",
    "full_dataset.drop(['imdb_title_id'], axis=1, inplace=True)"
   ],
   "outputs": [
    {
     "output_type": "stream",
     "name": "stdout",
     "text": [
      "count         60198\n",
      "unique        60198\n",
      "top       tt1126618\n",
      "freq              1\n",
      "Name: imdb_title_id, dtype: object\n"
     ]
    }
   ],
   "metadata": {}
  },
  {
   "cell_type": "markdown",
   "source": [
    "#### title\r\n",
    "\r\n",
    "There is no quantitative value in title, there are 57'284 uniqze values out of 60'198.\r\n",
    "It has to be dropped."
   ],
   "metadata": {}
  },
  {
   "cell_type": "code",
   "execution_count": 15,
   "source": [
    "print(full_dataset.title.describe())\r\n",
    "full_dataset.drop(['title'], axis=1, inplace=True)"
   ],
   "outputs": [
    {
     "output_type": "stream",
     "name": "stdout",
     "text": [
      "count                    60198\n",
      "unique                   57284\n",
      "top       The Three Musketeers\n",
      "freq                         8\n",
      "Name: title, dtype: object\n"
     ]
    }
   ],
   "metadata": {}
  },
  {
   "cell_type": "markdown",
   "source": [
    "#### original title\r\n",
    "This is the same/equivalent to title. It has to be dropped."
   ],
   "metadata": {}
  },
  {
   "cell_type": "code",
   "execution_count": 16,
   "source": [
    "print(full_dataset.original_title.describe())\r\n",
    "full_dataset.drop(['original_title'], axis=1, inplace=True)"
   ],
   "outputs": [
    {
     "output_type": "stream",
     "name": "stdout",
     "text": [
      "count                    60198\n",
      "unique                   57290\n",
      "top       The Three Musketeers\n",
      "freq                         8\n",
      "Name: original_title, dtype: object\n"
     ]
    }
   ],
   "metadata": {}
  },
  {
   "cell_type": "markdown",
   "source": [
    "#### year\r\n",
    "- We see that the correlation between the number of movies and successful movies is not linear.\r\n",
    "- The year is an important feature to identify the success; there is kind of a nonlinear relationship."
   ],
   "metadata": {}
  },
  {
   "cell_type": "code",
   "execution_count": 17,
   "source": [
    "print(full_dataset[['target', 'year']].groupby(['year']).agg(['sum', 'count']).plot.line(grid=True, title=\"all movies vs target\"))\r\n"
   ],
   "outputs": [
    {
     "output_type": "stream",
     "name": "stdout",
     "text": [
      "AxesSubplot(0.125,0.125;0.775x0.755)\n"
     ]
    },
    {
     "output_type": "display_data",
     "data": {
      "image/png": "[encoded data removed]",
      "text/plain": [
       "<Figure size 432x288 with 1 Axes>"
      ]
     },
     "metadata": {
      "needs_background": "light"
     }
    }
   ],
   "metadata": {}
  },
  {
   "cell_type": "markdown",
   "source": [
    "#### date_published\r\n",
    "The only value of date_published could be if it during a weekend or workday or a special quarter. Below there is seen the investigation by season. There is a strong correlation between not successful and successful values, so that there is no additional value.\r\n",
    "I drop the feature."
   ],
   "metadata": {}
  },
  {
   "cell_type": "code",
   "execution_count": 18,
   "source": [
    "full_dataset['quarter'] = pd.to_datetime(full_dataset['date_published']).apply(lambda x: x.quarter)\r\n",
    "\r\n",
    "print(full_dataset[['target', 'quarter']].groupby(['quarter']).agg(['sum', 'count']).plot.line(grid=True, title=\"Quarter vs target\"))\r\n",
    "\r\n",
    "full_dataset.drop(['date_published','quarter'], axis=1, inplace=True)"
   ],
   "outputs": [
    {
     "output_type": "stream",
     "name": "stdout",
     "text": [
      "AxesSubplot(0.125,0.125;0.775x0.755)\n"
     ]
    },
    {
     "output_type": "display_data",
     "data": {
      "image/png": "[encoded data removed]",
      "text/plain": [
       "<Figure size 432x288 with 1 Axes>"
      ]
     },
     "metadata": {
      "needs_background": "light"
     }
    }
   ],
   "metadata": {}
  },
  {
   "cell_type": "markdown",
   "source": [
    "imdb_title_id is simply a sequential id, every id is unique, "
   ],
   "metadata": {}
  },
  {
   "cell_type": "markdown",
   "source": [
    "#### genre\r\n"
   ],
   "metadata": {}
  },
  {
   "cell_type": "code",
   "execution_count": 19,
   "source": [
    "print(full_dataset[\"genre\"].value_counts())"
   ],
   "outputs": [
    {
     "output_type": "stream",
     "name": "stdout",
     "text": [
      "Drama                         8498\n",
      "Comedy                        5420\n",
      "Comedy, Drama                 2654\n",
      "Drama, Romance                2529\n",
      "Comedy, Romance               1777\n",
      "                              ... \n",
      "Action, Thriller, Sci-Fi         1\n",
      "Crime, Romance, Sci-Fi           1\n",
      "Comedy, Film-Noir, Mystery       1\n",
      "Drama, Mystery, Sport            1\n",
      "Animation, Comedy, Western       1\n",
      "Name: genre, Length: 1202, dtype: int64\n"
     ]
    }
   ],
   "metadata": {}
  },
  {
   "cell_type": "markdown",
   "source": [
    "- We see that there is a general problem, that there are more than one category.\r\n",
    "- Potentially we could split all genres, if more than one. But this would give a bias between one-category-genres and many-categories genres.\r\n",
    "- I assume that the first genre is always the main genre, therefore let's only keep the main genre."
   ],
   "metadata": {}
  },
  {
   "cell_type": "markdown",
   "source": [],
   "metadata": {}
  },
  {
   "cell_type": "code",
   "execution_count": 20,
   "source": [
    "full_dataset[\"genre\"] = full_dataset[\"genre\"].str.split(', ').apply(lambda main_genre: main_genre[0])\r\n",
    "\r\n",
    "print(full_dataset[\"genre\"])\r\n",
    "\r\n",
    "genre_vals = full_dataset[['target', 'genre']].groupby(['genre']).agg(['sum', 'count'])\r\n",
    "\r\n",
    "print(pd.concat([genre_vals.target[\"sum\"], genre_vals.target[\"count\"],genre_vals.target[\"sum\"]/genre_vals.target[\"count\"]], axis=1))\r\n",
    "\r\n"
   ],
   "outputs": [
    {
     "output_type": "stream",
     "name": "stdout",
     "text": [
      "0        Biography\n",
      "1            Drama\n",
      "2            Drama\n",
      "3        Adventure\n",
      "4        Biography\n",
      "           ...    \n",
      "60193        Drama\n",
      "60194       Action\n",
      "60195       Sci-Fi\n",
      "60196        Crime\n",
      "60197       Action\n",
      "Name: genre, Length: 60198, dtype: object\n",
      "              sum  count         0\n",
      "genre                             \n",
      "Action       1670   8360  0.199761\n",
      "Adult           0      2  0.000000\n",
      "Adventure     712   2797  0.254558\n",
      "Animation     603   1284  0.469626\n",
      "Biography     698   1400  0.498571\n",
      "Comedy       4466  17350  0.257406\n",
      "Crime        1370   4228  0.324030\n",
      "Documentary     2      2  1.000000\n",
      "Drama        6809  17565  0.387646\n",
      "Family         88    453  0.194260\n",
      "Fantasy        64    342  0.187135\n",
      "Film-Noir      13     34  0.382353\n",
      "History        17     52  0.326923\n",
      "Horror        158   3215  0.049145\n",
      "Music          18     54  0.333333\n",
      "Musical        79    293  0.269625\n",
      "Mystery        71    426  0.166667\n",
      "Romance       127    531  0.239171\n",
      "Sci-Fi         21    302  0.069536\n",
      "Sport           1      4  0.250000\n",
      "Thriller       81    811  0.099877\n",
      "War            34     93  0.365591\n",
      "Western        83    600  0.138333\n"
     ]
    }
   ],
   "metadata": {}
  },
  {
   "cell_type": "markdown",
   "source": [
    "- We see that there are some very small categories, however they don't disturb since the category number is not that big\r\n",
    "- Otherwise the genre data look very promising; there is a lot of success cariance between the categories, which\r\n",
    "will allow a strong categorical feature"
   ],
   "metadata": {}
  },
  {
   "cell_type": "code",
   "execution_count": 21,
   "source": [
    "genre_vals = full_dataset[['target', 'genre']].groupby(['genre']).agg(['sum', 'count'])\r\n",
    "\r\n",
    "print(pd.concat([genre_vals.target[\"sum\"], genre_vals.target[\"count\"],genre_vals.target[\"sum\"]/genre_vals.target[\"count\"]], axis=1))\r\n"
   ],
   "outputs": [
    {
     "output_type": "stream",
     "name": "stdout",
     "text": [
      "              sum  count         0\n",
      "genre                             \n",
      "Action       1670   8360  0.199761\n",
      "Adult           0      2  0.000000\n",
      "Adventure     712   2797  0.254558\n",
      "Animation     603   1284  0.469626\n",
      "Biography     698   1400  0.498571\n",
      "Comedy       4466  17350  0.257406\n",
      "Crime        1370   4228  0.324030\n",
      "Documentary     2      2  1.000000\n",
      "Drama        6809  17565  0.387646\n",
      "Family         88    453  0.194260\n",
      "Fantasy        64    342  0.187135\n",
      "Film-Noir      13     34  0.382353\n",
      "History        17     52  0.326923\n",
      "Horror        158   3215  0.049145\n",
      "Music          18     54  0.333333\n",
      "Musical        79    293  0.269625\n",
      "Mystery        71    426  0.166667\n",
      "Romance       127    531  0.239171\n",
      "Sci-Fi         21    302  0.069536\n",
      "Sport           1      4  0.250000\n",
      "Thriller       81    811  0.099877\n",
      "War            34     93  0.365591\n",
      "Western        83    600  0.138333\n"
     ]
    }
   ],
   "metadata": {}
  },
  {
   "cell_type": "markdown",
   "source": [
    "#### duration\r\n",
    "- We see generally longer films are more successful, there is a difference, therefore it is a valid feature."
   ],
   "metadata": {}
  },
  {
   "cell_type": "code",
   "execution_count": 22,
   "source": [
    "pd.concat([full_dataset['target'], full_dataset['duration']], axis=1).plot.scatter(x='duration', y='target', title='duration vs target', grid=True)"
   ],
   "outputs": [
    {
     "output_type": "execute_result",
     "data": {
      "text/plain": [
       "<AxesSubplot:title={'center':'duration vs target'}, xlabel='duration', ylabel='target'>"
      ]
     },
     "metadata": {},
     "execution_count": 22
    },
    {
     "output_type": "display_data",
     "data": {
      "image/png": "[encoded data removed]",
      "text/plain": [
       "<Figure size 432x288 with 1 Axes>"
      ]
     },
     "metadata": {
      "needs_background": "light"
     }
    }
   ],
   "metadata": {}
  },
  {
   "cell_type": "markdown",
   "source": [
    "#### country\r\n",
    "\r\n",
    "- Only first country is chosen, assuming this to be the main country\r\n",
    "- The success rates by country are very diverse, that will be good for a strong feature.\r\n",
    "- I don't want to have a prediction of countries, which do have less than 2 movies (Not representative)"
   ],
   "metadata": {}
  },
  {
   "cell_type": "code",
   "execution_count": 23,
   "source": [
    "full_dataset['country'].value_counts()\r\n",
    "\r\n",
    "full_dataset['country'] = full_dataset['country'].str.split(', ').apply(lambda main_country: main_country[0] if main_country is not np.nan else \"missing_value\")\r\n",
    "\r\n",
    "print(full_dataset['country'].value_counts())\r\n",
    "\r\n",
    "country_vals = full_dataset[['target', 'country']].groupby(['country']).agg(['sum', 'count'])\r\n",
    "\r\n",
    "country_vals_other = country_vals.target[(country_vals.target[\"count\"]>2)]\r\n",
    "\r\n",
    "country_vals_other = set(country_vals_other[\"count\"].index.tolist())\r\n",
    "\r\n",
    "full_dataset['country'] = full_dataset['country'].apply(lambda ctry: \"Other\" if ctry not in country_vals_other else ctry)\r\n",
    "\r\n",
    "print(full_dataset['country'].value_counts())\r\n",
    "\r\n",
    "country_vals = full_dataset[['target', 'country']].groupby(['country']).agg(['sum', 'count'])\r\n",
    "\r\n",
    "print(pd.concat([country_vals.target[\"sum\"], country_vals.target[\"count\"],country_vals.target[\"sum\"]/country_vals.target[\"count\"]], axis=1))"
   ],
   "outputs": [
    {
     "output_type": "stream",
     "name": "stdout",
     "text": [
      "USA         23832\n",
      "UK           4365\n",
      "France       3910\n",
      "India        3102\n",
      "Italy        3012\n",
      "            ...  \n",
      "Kenya           1\n",
      "Moldova         1\n",
      "Suriname        1\n",
      "Belarus         1\n",
      "Zambia          1\n",
      "Name: country, Length: 140, dtype: int64\n",
      "USA              23832\n",
      "UK                4365\n",
      "France            3910\n",
      "India             3102\n",
      "Italy             3012\n",
      "                 ...  \n",
      "Greenland            3\n",
      "Liechtenstein        3\n",
      "Panama               3\n",
      "Nepal                3\n",
      "Guatemala            3\n",
      "Name: country, Length: 110, dtype: int64\n",
      "               sum  count         0\n",
      "country                            \n",
      "Afghanistan      3      3  1.000000\n",
      "Albania          5      9  0.555556\n",
      "Algeria          5     10  0.500000\n",
      "Angola           1      4  0.250000\n",
      "Argentina      149    407  0.366093\n",
      "...            ...    ...       ...\n",
      "Venezuela        8     21  0.380952\n",
      "Vietnam         12     17  0.705882\n",
      "West Germany   161    583  0.276158\n",
      "Yugoslavia     211    288  0.732639\n",
      "missing_value    1      5  0.200000\n",
      "\n",
      "[110 rows x 3 columns]\n"
     ]
    }
   ],
   "metadata": {}
  },
  {
   "cell_type": "markdown",
   "source": [
    "#### director\r\n",
    "- There are many different unique directors, however they are very divcerse and make a strong feature\r\n",
    "- There are a lot of difference between a successful and a not successful director.\r\n",
    "- I only take the first Director as main director\r\n",
    "- In a previous version I had tested it with category \"Other\" and OneHotEncoding. The outcome was quite poor.\r\n",
    "- I put together the average success rate of every director in one single column,. By doing this I get a very good result"
   ],
   "metadata": {}
  },
  {
   "cell_type": "code",
   "execution_count": 24,
   "source": [
    "feature = \"director\"\r\n",
    "\r\n",
    "full_dataset[feature] = full_dataset[feature].str.split(', ').apply(lambda value: value[0] if value is not np.nan else \"missing_value\")\r\n",
    "\r\n",
    "values = full_dataset[['target', feature]].groupby([feature]).agg(['sum', 'count'])\r\n",
    "success_rate = values.target[\"sum\"]/values.target[\"count\"]\r\n",
    "full_dataset[feature] = full_dataset[feature].apply(lambda row: success_rate.loc[row] if row in success_rate.index else 0)\r\n",
    "\r\n",
    "print(success_rate)"
   ],
   "outputs": [
    {
     "output_type": "stream",
     "name": "stdout",
     "text": [
      "director\n",
      "'Evil' Ted Smith              0.000000\n",
      "'Philthy' Phil Phillips       0.000000\n",
      "A. Bhimsingh                  0.875000\n",
      "A. Dean Bell                  0.000000\n",
      "A. Edward Sutherland          0.217391\n",
      "                                ...   \n",
      "Ümit Elçi                     0.000000\n",
      "Ümit Ünal                     0.200000\n",
      "Þorsteinn Gunnar Bjarnason    0.000000\n",
      "Þráinn Bertelsson             0.750000\n",
      "Þórhildur Þorleifsdóttir      1.000000\n",
      "Length: 21052, dtype: float64\n"
     ]
    }
   ],
   "metadata": {}
  },
  {
   "cell_type": "markdown",
   "source": [
    "#### language\r\n",
    "- There are quite some different language, which success rate on tgarget ist quite different.\r\n",
    "- In a previous version I had tested it with category \"Other\" and OneHotEncoding. The outcome was quite poor.\r\n",
    "- I put together the average success rate of every director in one single column. By doing this I get a very good result"
   ],
   "metadata": {}
  },
  {
   "cell_type": "code",
   "execution_count": 25,
   "source": [
    "feature = \"language\"\r\n",
    "\r\n",
    "full_dataset[feature] = full_dataset[feature].str.split(', ').apply(lambda value: value[0] if value is not np.nan else \"missing_value\")\r\n",
    "\r\n",
    "values = full_dataset[['target', feature]].groupby([feature]).agg(['sum', 'count'])\r\n",
    "success_rate = values.target[\"sum\"]/values.target[\"count\"]\r\n",
    "full_dataset[feature] = full_dataset[feature].apply(lambda row: success_rate.loc[row] if row in success_rate.index else 0)\r\n",
    "\r\n",
    "print(success_rate)"
   ],
   "outputs": [
    {
     "output_type": "stream",
     "name": "stdout",
     "text": [
      "language\n",
      "Aboriginal                0.666667\n",
      "Afrikaans                 0.727273\n",
      "Akan                      1.000000\n",
      "Albanian                  0.555556\n",
      "American Sign Language    0.000000\n",
      "                            ...   \n",
      "Xhosa                     0.000000\n",
      "Yiddish                   0.400000\n",
      "Yoruba                    1.000000\n",
      "Zulu                      0.666667\n",
      "missing_value             0.318907\n",
      "Length: 145, dtype: float64\n"
     ]
    }
   ],
   "metadata": {}
  },
  {
   "cell_type": "markdown",
   "source": [
    "#### Writer\r\n",
    "- Too many uniue values, writer is not the director, and a director doesn't always choose the same writers, therefore a disturbing feature.\r\n",
    "- I will drop this feature"
   ],
   "metadata": {}
  },
  {
   "cell_type": "code",
   "execution_count": 26,
   "source": [
    "print(full_dataset['writer'].value_counts())\r\n",
    "print(full_dataset['writer'].describe())\r\n",
    "\r\n",
    "full_dataset.drop(['writer'], axis=1, inplace=True)"
   ],
   "outputs": [
    {
     "output_type": "stream",
     "name": "stdout",
     "text": [
      "Jing Wong                                70\n",
      "Kuang Ni                                 44\n",
      "Woody Allen                              33\n",
      "Cheh Chang, Kuang Ni                     32\n",
      "Leonardo Benvenuti, Piero De Bernardi    32\n",
      "                                         ..\n",
      "Hideo Oguni, Ryûzô Kikushima              1\n",
      "Manoj Mitra, Tapan Sinha                  1\n",
      "Christopher Folino                        1\n",
      "Rob Lieber, Rob Lieber                    1\n",
      "Georgiy Grebner, Karel Capek              1\n",
      "Name: writer, Length: 47546, dtype: int64\n",
      "count         59390\n",
      "unique        47546\n",
      "top       Jing Wong\n",
      "freq             70\n",
      "Name: writer, dtype: object\n"
     ]
    }
   ],
   "metadata": {}
  },
  {
   "cell_type": "markdown",
   "source": [
    "#### production_company\r\n",
    "\r\n",
    "- There are many different production companies, who do have a big impact on success ratge.\r\n",
    "- In a previous version I had tested it with category \"Other\" and OneHotEncoding. The outcome was quite poor.\r\n",
    "- I put together the average success rate of every director in one single column. By doing this I get a very good result"
   ],
   "metadata": {}
  },
  {
   "cell_type": "code",
   "execution_count": 27,
   "source": [
    "feature = \"production_company\"\r\n",
    "\r\n",
    "full_dataset[feature] = full_dataset[feature].str.split(', ').apply(lambda value: value[0] if value is not np.nan else \"missing_value\")\r\n",
    "\r\n",
    "values = full_dataset[['target', feature]].groupby([feature]).agg(['sum', 'count'])\r\n",
    "success_rate = values.target[\"sum\"]/values.target[\"count\"]\r\n",
    "full_dataset[feature] = full_dataset[feature].apply(lambda row: success_rate.loc[row] if row in success_rate.index else 0)\r\n",
    "\r\n",
    "\r\n",
    "print(success_rate)"
   ],
   "outputs": [
    {
     "output_type": "stream",
     "name": "stdout",
     "text": [
      "production_company\n",
      "\"DIA\" Productions GmbH & Co. KG    0.000000\n",
      "\"DumBeast\" Partners                0.000000\n",
      "\"G\" P.C. S.A.                      0.000000\n",
      "\"Mi\" Production Studio             0.000000\n",
      "\"Ulitka\" Studio                    0.000000\n",
      "                                     ...   \n",
      "Österreichisches Filminstitut      0.000000\n",
      "Özen Film                          0.500000\n",
      "Özer Film                          0.000000\n",
      "Új Budapest Filmstudió             0.333333\n",
      "Új Dialóg Stúdió                   0.000000\n",
      "Length: 21437, dtype: float64\n"
     ]
    }
   ],
   "metadata": {}
  },
  {
   "cell_type": "markdown",
   "source": [
    "#### actors\r\n",
    "\r\n",
    "- The actors feature is very extensive and we need to simply it, by only taking the firt actor (main actor). Surely there are more than 1 main actor, but the first one is the most important.\r\n",
    "- In a previous version I had tested it with category \"Other\" and OneHotEncoding. The outcome was quite poor.\r\n",
    "- I put together the average success rate of every director in one single column,. By doing this I get a very good result"
   ],
   "metadata": {}
  },
  {
   "cell_type": "code",
   "execution_count": 28,
   "source": [
    "feature = \"actors\"\r\n",
    "\r\n",
    "full_dataset[feature] = full_dataset[feature].str.split(', ').apply(lambda value: value[0] if value is not np.nan else \"missing_value\")\r\n",
    "\r\n",
    "values = full_dataset[['target', feature]].groupby([feature]).agg(['sum', 'count'])\r\n",
    "success_rate = values.target[\"sum\"]/values.target[\"count\"]\r\n",
    "full_dataset[feature] = full_dataset[feature].apply(lambda row: success_rate.loc[row] if row in success_rate.index else 0)\r\n",
    "\r\n",
    "print(success_rate)"
   ],
   "outputs": [
    {
     "output_type": "stream",
     "name": "stdout",
     "text": [
      "actors\n",
      "'Lee' George Quinones     1.0\n",
      "'Weird Al' Yankovic       1.0\n",
      "2Mex                      0.0\n",
      "50 Cent                   0.0\n",
      "A Martinez                1.0\n",
      "                         ... \n",
      "Ümit Acar                 0.0\n",
      "Ümit Kantarcilar          0.0\n",
      "Þröstur Leó Gunnarsson    0.0\n",
      "Þórhallur Sigurðsson      0.0\n",
      "Þórhallur Sverrisson      1.0\n",
      "Length: 25082, dtype: float64\n"
     ]
    }
   ],
   "metadata": {}
  },
  {
   "cell_type": "markdown",
   "source": [
    "#### description\r\n",
    "- Description is a custom text, all values are quite unique. One can think to extract words count the words, but this would be an overkill for this final project and the success is not guaranteed.\r\n",
    "- The feature has to be dropped"
   ],
   "metadata": {}
  },
  {
   "cell_type": "code",
   "execution_count": 29,
   "source": [
    "print(full_dataset['description'])\r\n",
    "print(full_dataset['description'].describe())\r\n",
    "\r\n",
    "full_dataset.drop(['description'], axis=1, inplace=True)\r\n"
   ],
   "outputs": [
    {
     "output_type": "stream",
     "name": "stdout",
     "text": [
      "0        True story of notorious Australian outlaw Ned ...\n",
      "1        Two men of high rank are both wooing the beaut...\n",
      "2        The fabled queen of Egypt's affair with Roman ...\n",
      "3        Loosely adapted from Dante's Divine Comedy and...\n",
      "4        An account of the life of Jesus Christ, based ...\n",
      "                               ...                        \n",
      "60193    Mai, a ribbon dancer from the countryside arri...\n",
      "60194    Five substance-abusing friends decide to fake ...\n",
      "60195                                                  NaN\n",
      "60196    When a greedy Las Vegas casino owner threatens...\n",
      "60197    When three redneck brothers agree to help a wo...\n",
      "Name: description, Length: 60198, dtype: object\n",
      "count     58205\n",
      "unique    58126\n",
      "top        Mail\n",
      "freq          7\n",
      "Name: description, dtype: object\n"
     ]
    }
   ],
   "metadata": {}
  },
  {
   "cell_type": "markdown",
   "source": [
    "#### Columns with too many missing values have to be dropped\r\n",
    "- budget, usa_gross_income, worldwide_gross_income, metascore have too many missing values, all over 65%, therefore it is not representative and has to be dropped"
   ],
   "metadata": {}
  },
  {
   "cell_type": "code",
   "execution_count": 30,
   "source": [
    "(full_dataset.isna().sum() / num_rows).plot(kind=\"bar\", title=\"Missing data (%)\", grid=True)\r\n",
    "\r\n",
    "full_dataset.drop(['budget','usa_gross_income','worlwide_gross_income','metascore'], axis=1, inplace=True)\r\n"
   ],
   "outputs": [
    {
     "output_type": "display_data",
     "data": {
      "image/png": "[encoded data removed]",
      "text/plain": [
       "<Figure size 432x288 with 1 Axes>"
      ]
     },
     "metadata": {
      "needs_background": "light"
     }
    }
   ],
   "metadata": {}
  },
  {
   "cell_type": "markdown",
   "source": [
    "#### reviews_from_users\r\n",
    "- The number of reviews is not randomly distributed to successful & not successful movies. There is a tendency that sucessful movies get more reviews.\r\n",
    "- The feature is useful, no transformation required\r\n",
    "- NA values ares filled by 0"
   ],
   "metadata": {}
  },
  {
   "cell_type": "code",
   "execution_count": 31,
   "source": [
    "print(pd.concat([full_dataset['reviews_from_users'], full_dataset['target']], axis=1).plot.scatter(x='target', y='reviews_from_users', title='reviews_from_users vs. target', grid=True))\r\n",
    "\r\n",
    "full_dataset['reviews_from_users'] = full_dataset['reviews_from_users'].fillna(0)"
   ],
   "outputs": [
    {
     "output_type": "stream",
     "name": "stdout",
     "text": [
      "AxesSubplot(0.125,0.125;0.775x0.755)\n"
     ]
    },
    {
     "output_type": "display_data",
     "data": {
      "image/png": "[encoded data removed]",
      "text/plain": [
       "<Figure size 432x288 with 1 Axes>"
      ]
     },
     "metadata": {
      "needs_background": "light"
     }
    }
   ],
   "metadata": {}
  },
  {
   "cell_type": "markdown",
   "source": [
    "#### reviews_from_critics\r\n",
    "- The number of reviews is not randomly distributed to successful & not successful movies. There is a tendency that sucessful movies get more reviews.\r\n",
    "- The feature is useful, no transformation required\r\n",
    "- NA values ares filled by 0"
   ],
   "metadata": {}
  },
  {
   "cell_type": "code",
   "execution_count": 32,
   "source": [
    "print(pd.concat([full_dataset['reviews_from_critics'], full_dataset['target']], axis=1).plot.scatter(x='target', y='reviews_from_critics', title='reviews_from_critics vs. target', grid=True))\r\n",
    "\r\n",
    "full_dataset['reviews_from_critics'] = full_dataset['reviews_from_critics'].fillna(0)"
   ],
   "outputs": [
    {
     "output_type": "stream",
     "name": "stdout",
     "text": [
      "AxesSubplot(0.125,0.125;0.775x0.755)\n"
     ]
    },
    {
     "output_type": "display_data",
     "data": {
      "image/png": "[encoded data removed]",
      "text/plain": [
       "<Figure size 432x288 with 1 Axes>"
      ]
     },
     "metadata": {
      "needs_background": "light"
     }
    }
   ],
   "metadata": {}
  },
  {
   "cell_type": "markdown",
   "source": [
    "### RECAP & PIPELINE"
   ],
   "metadata": {}
  },
  {
   "cell_type": "code",
   "execution_count": 33,
   "source": [
    "from sklearn.compose import ColumnTransformer\r\n",
    "from sklearn.preprocessing import OneHotEncoder, StandardScaler\r\n",
    "from sklearn.impute import SimpleImputer\r\n",
    "from sklearn.pipeline import make_pipeline\r\n",
    "\r\n",
    "#Missing values -> No missing values anymore\r\n",
    "print((full_dataset.isna().sum() / num_rows).plot(kind=\"bar\", title=\"Missing data (%) - No missing data\", grid=True))\r\n",
    "\r\n",
    "#Drop avg_vote, because it is the target\r\n",
    "full_dataset.drop(['avg_vote'], axis=1, inplace=True)\r\n",
    "\r\n",
    "#Num_cols\r\n",
    "num_cols = full_dataset.select_dtypes(exclude=\"object\").columns.to_list()\r\n",
    "num_cols.remove(\"target\")\r\n",
    "print(f\"num_cols: {num_cols}\")\r\n",
    "\r\n",
    "#Cat_cols\r\n",
    "cat_cols = full_dataset.select_dtypes(\"object\").columns.to_list()\r\n",
    "print(f\"cat_cols: {cat_cols}\")\r\n",
    "\r\n",
    "#Columntransformer\r\n",
    "num_pipe = make_pipeline(\r\n",
    "    SimpleImputer(missing_values=np.nan,strategy='constant'),\r\n",
    "    StandardScaler()\r\n",
    "    )\r\n",
    "\r\n",
    "cat_pipe = make_pipeline(\r\n",
    "    SimpleImputer(missing_values=np.nan,strategy='constant'),\r\n",
    "    OneHotEncoder(handle_unknown=\"ignore\")\r\n",
    "    )\r\n",
    "\r\n",
    "column_transformer = ColumnTransformer([\r\n",
    " ('num', num_pipe, num_cols),\r\n",
    " ('cat', cat_pipe, cat_cols)    \r\n",
    " ],\r\n",
    " remainder='passthrough'\r\n",
    ")"
   ],
   "outputs": [
    {
     "output_type": "stream",
     "name": "stdout",
     "text": [
      "AxesSubplot(0.125,0.125;0.775x0.755)\n",
      "num_cols: ['year', 'duration', 'language', 'director', 'production_company', 'actors', 'votes', 'reviews_from_users', 'reviews_from_critics']\n",
      "cat_cols: ['genre', 'country']\n"
     ]
    },
    {
     "output_type": "display_data",
     "data": {
      "image/png": "[encoded data removed]",
      "text/plain": [
       "<Figure size 432x288 with 1 Axes>"
      ]
     },
     "metadata": {
      "needs_background": "light"
     }
    }
   ],
   "metadata": {}
  },
  {
   "cell_type": "markdown",
   "source": [
    "### Part 3.\n",
    "\n",
    "Train and compare the models\n",
    "\n",
    "3.1. Select models, you are going to train, select hyperparameters that have to be tunes."
   ],
   "metadata": {}
  },
  {
   "cell_type": "code",
   "execution_count": 34,
   "source": [
    "from sklearn.compose import ColumnTransformer\r\n",
    "from sklearn.preprocessing import OneHotEncoder, StandardScaler\r\n",
    "from sklearn.impute import SimpleImputer\r\n",
    "from sklearn.pipeline import make_pipeline\r\n",
    "from sklearn.pipeline import Pipeline\r\n",
    "from sklearn.ensemble import GradientBoostingClassifier\r\n",
    "from sklearn.ensemble import RandomForestClassifier\r\n",
    "from sklearn.ensemble import BaggingClassifier\r\n",
    "from sklearn.model_selection import GridSearchCV\r\n",
    "from sklearn.metrics import f1_score\r\n",
    "\r\n",
    "train, test = train_test_split(full_dataset, test_size=0.2, random_state=42)\r\n",
    "X_train, y_train, X_test, y_test = train.drop(['target'], axis=1), train.target, test.drop(['target'], axis=1), test.target\r\n",
    "\r\n",
    "param_grid = [\r\n",
    "    {'cf' : [BaggingClassifier()],  \r\n",
    "            'cf__n_estimators': [5, 10],\r\n",
    "            'cf__max_samples': [5, 10],\r\n",
    "            'cf__n_jobs': [10, 50]\r\n",
    "    },\r\n",
    "    {'cf' : [RandomForestClassifier()],\r\n",
    "         'cf__n_estimators': [100, 1000],\r\n",
    "         'cf__criterion': ['entropy', 'gini'], \r\n",
    "         'cf__max_depth': [100,500,1000],\r\n",
    "    },\r\n",
    "    {'cf' : [GradientBoostingClassifier()],\r\n",
    "         'cf__n_estimators': [100,150,200],\r\n",
    "         'cf__learning_rate': [0.1,0.15,0.2],\r\n",
    "         'cf__max_depth': [3,4,5]\r\n",
    "    }\r\n",
    "]\r\n"
   ],
   "outputs": [],
   "metadata": {}
  },
  {
   "cell_type": "markdown",
   "source": [
    "3.2 Use cross-validation to compare models and select best set of hyperparameters"
   ],
   "metadata": {}
  },
  {
   "cell_type": "markdown",
   "source": [
    "#### F1_Score:\r\n",
    "- The GradientBoostingClassifier won the compeition in param_grid. The best parameters were {'max_depth': 5, 'n_estimators': 200}\r\n",
    "- F-1 Score: 0.90 (compared to 0.45 in ones dataset). I estimate this value as quite high and good.\r\n",
    "- There was not much difference in the F-1 Score between training and test data set, even quite identical (R1-Score: 0.8971 vs. 0.9002)"
   ],
   "metadata": {}
  },
  {
   "cell_type": "code",
   "execution_count": 35,
   "source": [
    "pipe = Pipeline([\r\n",
    "    ('ct', column_transformer),\r\n",
    "    ('cf' , RandomForestClassifier())\r\n",
    "])"
   ],
   "outputs": [],
   "metadata": {}
  },
  {
   "cell_type": "code",
   "execution_count": 36,
   "source": [
    "grid_pipe = GridSearchCV(pipe, param_grid = param_grid, cv=3, scoring='f1',n_jobs=-1)\r\n",
    "grid_pipe.fit(X_train, y_train)"
   ],
   "outputs": [
    {
     "output_type": "execute_result",
     "data": {
      "text/plain": [
       "GridSearchCV(cv=3,\n",
       "             estimator=Pipeline(steps=[('ct',\n",
       "                                        ColumnTransformer(remainder='passthrough',\n",
       "                                                          transformers=[('num',\n",
       "                                                                         Pipeline(steps=[('simpleimputer',\n",
       "                                                                                          SimpleImputer(strategy='constant')),\n",
       "                                                                                         ('standardscaler',\n",
       "                                                                                          StandardScaler())]),\n",
       "                                                                         ['year',\n",
       "                                                                          'duration',\n",
       "                                                                          'language',\n",
       "                                                                          'director',\n",
       "                                                                          'production_company',\n",
       "                                                                          'actors',\n",
       "                                                                          'votes',\n",
       "                                                                          'reviews_from_users',\n",
       "                                                                          'reviews_from_critics']),\n",
       "                                                                        ('cat...\n",
       "                          'cf__n_estimators': [5, 10], 'cf__n_jobs': [10, 50]},\n",
       "                         {'cf': [RandomForestClassifier()],\n",
       "                          'cf__criterion': ['entropy', 'gini'],\n",
       "                          'cf__max_depth': [100, 500, 1000],\n",
       "                          'cf__n_estimators': [100, 1000]},\n",
       "                         {'cf': [GradientBoostingClassifier(max_depth=5,\n",
       "                                                            n_estimators=200)],\n",
       "                          'cf__learning_rate': [0.1, 0.15, 0.2],\n",
       "                          'cf__max_depth': [3, 4, 5],\n",
       "                          'cf__n_estimators': [100, 150, 200]}],\n",
       "             scoring='f1')"
      ]
     },
     "metadata": {},
     "execution_count": 36
    }
   ],
   "metadata": {}
  },
  {
   "cell_type": "code",
   "execution_count": 37,
   "source": [
    "print(grid_pipe.best_score_)\r\n",
    "print(f1_score(y_test, grid_pipe.predict(X_test)))\r\n",
    "\r\n",
    "print(grid_pipe.best_estimator_.steps[1][1])"
   ],
   "outputs": [
    {
     "output_type": "stream",
     "name": "stdout",
     "text": [
      "0.8970738000835361\n",
      "0.9002326934264108\n",
      "GradientBoostingClassifier(max_depth=5, n_estimators=200)\n"
     ]
    }
   ],
   "metadata": {}
  },
  {
   "cell_type": "code",
   "execution_count": 38,
   "source": [
    "print(grid_pipe.best_estimator_.steps[1][1])"
   ],
   "outputs": [
    {
     "output_type": "stream",
     "name": "stdout",
     "text": [
      "GradientBoostingClassifier(max_depth=5, n_estimators=200)\n"
     ]
    }
   ],
   "metadata": {}
  },
  {
   "cell_type": "code",
   "execution_count": 39,
   "source": [
    "# ones\r\n",
    "print(f1_score(y_test, np.ones(y_test.size)))"
   ],
   "outputs": [
    {
     "output_type": "stream",
     "name": "stdout",
     "text": [
      "0.44815363794547913\n"
     ]
    }
   ],
   "metadata": {}
  },
  {
   "cell_type": "markdown",
   "source": [
    "3.3 Which model and setup is the best? How does it perform on the test dataset? If you were to present this model to the client, how would you describe it?"
   ],
   "metadata": {}
  },
  {
   "cell_type": "markdown",
   "source": [
    "#### Conclusion:\r\n",
    "- Unfortunately it was very hard to find a good measure of success. Finally I decided >0.75 (Top 25% is a success) quantile of average_votes seems to be a good target.\r\n",
    "- On the other side, we consider the quality of the movies (high rating) and it has a diret correlation with the number of votes, even if not perfect.\r\n",
    "- Finally the number of votes are a strong indicator of financial success. But because we lack the control variable of revenue (too many missing values), it is hard to determine\r\n",
    "a good Threshold of success. Therefore average_votes was the right measure.\r\n",
    "- I consider the high predictability of 90% a veray good ML-model to predict success of a movie.\r\n"
   ],
   "metadata": {}
  },
  {
   "cell_type": "markdown",
   "source": [],
   "metadata": {}
  }
 ],
 "metadata": {
  "kernelspec": {
   "name": "python3",
   "display_name": "Python 3.8.8 64-bit ('base': conda)"
  },
  "language_info": {
   "codemirror_mode": {
    "name": "ipython",
    "version": 3
   },
   "file_extension": ".py",
   "mimetype": "text/x-python",
   "name": "python",
   "nbconvert_exporter": "python",
   "pygments_lexer": "ipython3",
   "version": "3.8.8"
  },
  "interpreter": {
   "hash": "b3ba2566441a7c06988d0923437866b63cedc61552a5af99d1f4fb67d367b25f"
  }
 },
 "nbformat": 4,
 "nbformat_minor": 4
}